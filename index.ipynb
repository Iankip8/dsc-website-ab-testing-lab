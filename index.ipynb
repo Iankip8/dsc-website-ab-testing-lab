{
 "cells": [
  {
   "attachments": {},
   "cell_type": "markdown",
   "metadata": {},
   "source": [
    "# Website A/B Testing - Lab\n",
    "\n",
    "## Introduction\n",
    "\n",
    "In this lab, you'll get another chance to practice your skills at conducting a full A/B test analysis. It will also be a chance to practice your data exploration and processing skills! The scenario you'll be investigating is data collected from the homepage of a music app page for audacity.\n",
    "\n",
    "## Objectives\n",
    "\n",
    "You will be able to:\n",
    "* Analyze the data from a website A/B test to draw relevant conclusions\n",
    "* Explore and analyze web action data"
   ]
  },
  {
   "attachments": {},
   "cell_type": "markdown",
   "metadata": {},
   "source": [
    "## Exploratory Analysis\n",
    "\n",
    "Start by loading in the dataset stored in the file 'homepage_actions.csv'. Then conduct an exploratory analysis to get familiar with the data."
   ]
  },
  {
   "attachments": {},
   "cell_type": "markdown",
   "metadata": {},
   "source": [
    "> Hints:\n",
    "    * Start investigating the id column:\n",
    "        * How many viewers also clicked?\n",
    "        * Are there any anomalies with the data; did anyone click who didn't view?\n",
    "        * Is there any overlap between the control and experiment groups? \n",
    "            * If so, how do you plan to account for this in your experimental design?"
   ]
  },
  {
   "cell_type": "code",
   "execution_count": 3,
   "metadata": {},
   "outputs": [
    {
     "name": "stdout",
     "output_type": "stream",
     "text": [
      "                    timestamp      id       group action\n",
      "0  2016-09-24 17:42:27.839496  804196  experiment   view\n",
      "1  2016-09-24 19:19:03.542569  434745  experiment   view\n",
      "2  2016-09-24 19:36:00.944135  507599  experiment   view\n",
      "3  2016-09-24 19:59:02.646620  671993     control   view\n",
      "4  2016-09-24 20:26:14.466886  536734  experiment   view\n",
      "<class 'pandas.core.frame.DataFrame'>\n",
      "RangeIndex: 8188 entries, 0 to 8187\n",
      "Data columns (total 4 columns):\n",
      " #   Column     Non-Null Count  Dtype \n",
      "---  ------     --------------  ----- \n",
      " 0   timestamp  8188 non-null   object\n",
      " 1   id         8188 non-null   int64 \n",
      " 2   group      8188 non-null   object\n",
      " 3   action     8188 non-null   object\n",
      "dtypes: int64(1), object(3)\n",
      "memory usage: 256.0+ KB\n",
      "None\n",
      "Number of viewers who clicked: 1860\n",
      "Anomalies in the data (clicks without views): True\n",
      "Overlap between control and experiment groups:\n",
      " group\n",
      "control       3332\n",
      "experiment    2996\n",
      "Name: id, dtype: int64\n"
     ]
    }
   ],
   "source": [
    "#Your code here\n",
    "import pandas as pd\n",
    "\n",
    "# Step 1: Load the dataset\n",
    "df = pd.read_csv('homepage_actions.csv')\n",
    "\n",
    "# Step 2: Exploratory Data Analysis (EDA)\n",
    "# Check the first few rows of the dataframe\n",
    "print(df.head())\n",
    "\n",
    "# Check the structure of the dataframe\n",
    "print(df.info())\n",
    "\n",
    "# Investigate the 'id' column\n",
    "# How many viewers also clicked?\n",
    "viewers_clicked = df[df['action'] == 'click']['id'].nunique()\n",
    "print(\"Number of viewers who clicked:\", viewers_clicked)\n",
    "\n",
    "# Are there any anomalies with the data? (e.g., clicks without views)\n",
    "anomalies = df[df['action'] == 'click']['id'].isin(df[df['action'] == 'view']['id'])\n",
    "print(\"Anomalies in the data (clicks without views):\", anomalies.any())\n",
    "\n",
    "# Is there any overlap between the control and experiment groups?\n",
    "overlap = df.groupby('group')['id'].nunique()\n",
    "print(\"Overlap between control and experiment groups:\\n\", overlap)\n",
    "\n",
    "# Step 3: Experimental Design\n",
    "# Based on the overlap, decide how to account for it in your analysis\n",
    "\n",
    "# Step 4: Analysis and Conclusion\n",
    "# Proceed with analyzing the results and drawing conclusions\n"
   ]
  },
  {
   "attachments": {},
   "cell_type": "markdown",
   "metadata": {},
   "source": [
    "## Conduct a Statistical Test\n",
    "\n",
    "Conduct a statistical test to determine whether the experimental homepage was more effective than that of the control group."
   ]
  },
  {
   "cell_type": "code",
   "execution_count": 4,
   "metadata": {},
   "outputs": [
    {
     "name": "stdout",
     "output_type": "stream",
     "text": [
      "t-statistic: -1.9334751824865355\n",
      "p-value: 0.05321212418167477\n",
      "Fail to reject the null hypothesis. There is insufficient evidence to conclude that the experimental homepage is more effective.\n"
     ]
    }
   ],
   "source": [
    "#Your code here\n",
    "from scipy import stats\n",
    "\n",
    "# Separate data for control and experimental groups\n",
    "control_data = df[df['group'] == 'control']['action']\n",
    "experimental_data = df[df['group'] == 'experiment']['action']\n",
    "\n",
    "# Perform two-sample t-test\n",
    "t_statistic, p_value = stats.ttest_ind(control_data == 'click', experimental_data == 'click')\n",
    "\n",
    "# Print the results\n",
    "print(\"t-statistic:\", t_statistic)\n",
    "print(\"p-value:\", p_value)\n",
    "\n",
    "# Compare p-value with significance level\n",
    "alpha = 0.05\n",
    "if p_value < alpha:\n",
    "    print(\"Reject the null hypothesis. The experimental homepage is more effective.\")\n",
    "else:\n",
    "    print(\"Fail to reject the null hypothesis. There is insufficient evidence to conclude that the experimental homepage is more effective.\")\n"
   ]
  },
  {
   "attachments": {},
   "cell_type": "markdown",
   "metadata": {},
   "source": [
    "## Verifying Results\n",
    "\n",
    "One sensible formulation of the data to answer the hypothesis test above would be to create a binary variable representing each individual in the experiment and control group. This binary variable would represent whether or not that individual clicked on the homepage; 1 for they did and 0 if they did not. \n",
    "\n",
    "The variance for the number of successes in a sample of a binomial variable with n observations is given by:\n",
    "\n",
    "## $n\\bullet p (1-p)$\n",
    "\n",
    "Given this, perform 3 steps to verify the results of your statistical test:\n",
    "1. Calculate the expected number of clicks for the experiment group, if it had the same click-through rate as that of the control group. \n",
    "2. Calculate the number of standard deviations that the actual number of clicks was from this estimate. \n",
    "3. Finally, calculate a p-value using the normal distribution based on this z-score."
   ]
  },
  {
   "attachments": {},
   "cell_type": "markdown",
   "metadata": {},
   "source": [
    "### Step 1:\n",
    "Calculate the expected number of clicks for the experiment group, if it had the same click-through rate as that of the control group. "
   ]
  },
  {
   "cell_type": "code",
   "execution_count": 8,
   "metadata": {},
   "outputs": [
    {
     "name": "stdout",
     "output_type": "stream",
     "text": [
      "Expected number of clicks for the experimental group: 857.6848030018762\n"
     ]
    }
   ],
   "source": [
    "# Separate data for control and experimental groups\n",
    "control_data = df[df['group'] == 'control']\n",
    "experimental_data = df[df['group'] == 'experiment']\n",
    "\n",
    "# Calculate the control group click-through rate\n",
    "control_ctr = control_data['action'].eq('click').mean()\n",
    "\n",
    "# Calculate the experimental group size\n",
    "experimental_group_size = len(experimental_data)\n",
    "\n",
    "# Calculate the expected number of clicks for the experimental group\n",
    "expected_clicks = experimental_group_size * control_ctr\n",
    "\n",
    "# Print the result\n",
    "print(\"Expected number of clicks for the experimental group:\", expected_clicks)\n"
   ]
  },
  {
   "attachments": {},
   "cell_type": "markdown",
   "metadata": {},
   "source": [
    "### Step 2:\n",
    "Calculate the number of standard deviations that the actual number of clicks was from this estimate."
   ]
  },
  {
   "cell_type": "code",
   "execution_count": 10,
   "metadata": {},
   "outputs": [
    {
     "name": "stdout",
     "output_type": "stream",
     "text": [
      "Number of standard deviations from the estimate: 2.71607302278784\n"
     ]
    }
   ],
   "source": [
    "#Your code here\n",
    "import numpy as np\n",
    "\n",
    "# Actual number of clicks in the experimental group\n",
    "actual_clicks = experimental_data['action'].eq('click').sum()\n",
    "\n",
    "# Calculate the standard deviation\n",
    "std_dev = np.sqrt(experimental_group_size * control_ctr * (1 - control_ctr))\n",
    "\n",
    "# Calculate the number of standard deviations\n",
    "z_score = (actual_clicks - expected_clicks) / std_dev\n",
    "\n",
    "# Print the result\n",
    "print(\"Number of standard deviations from the estimate:\", z_score)\n"
   ]
  },
  {
   "attachments": {},
   "cell_type": "markdown",
   "metadata": {},
   "source": [
    "### Step 3: \n",
    "Finally, calculate a p-value using the normal distribution based on this z-score."
   ]
  },
  {
   "cell_type": "code",
   "execution_count": 11,
   "metadata": {},
   "outputs": [
    {
     "name": "stdout",
     "output_type": "stream",
     "text": [
      "P-value: 0.9966969327240734\n"
     ]
    }
   ],
   "source": [
    "#Your code here\n",
    "from scipy.stats import norm\n",
    "\n",
    "# Calculate the p-value using the cumulative distribution function (CDF)\n",
    "p_value = norm.cdf(z_score)\n",
    "\n",
    "# Print the result\n",
    "print(\"P-value:\", p_value)\n"
   ]
  },
  {
   "attachments": {},
   "cell_type": "markdown",
   "metadata": {},
   "source": [
    "### Analysis:\n",
    "\n",
    "Does this result roughly match that of the previous statistical test?\n",
    "\n",
    "> Comment: The calculated p-value of approximately 0.997 indicates that the observed data is very likely under the null hypothesis, which suggests that there is no significant difference in click-through rates between the experimental and control groups. This result aligns with the previous statistical test, which also indicated that the experimental homepage was not significantly more effective than the control group's homepage.\n",
    "\n",
    "In summary, both the previous statistical test and the calculation based on the z-score and p-value suggest that there is no evidence to reject the null hypothesis, implying that the experimental homepage did not lead to a significant increase in click-through rates compared to the control group.\n",
    "\n",
    "\n",
    "\n",
    "\n",
    "\n",
    "\n"
   ]
  },
  {
   "attachments": {},
   "cell_type": "markdown",
   "metadata": {},
   "source": [
    "## Summary\n",
    "\n",
    "In this lab, you continued to get more practice designing and conducting AB tests. This required additional work preprocessing and formulating the initial problem in a suitable manner. Additionally, you also saw how to verify results, strengthening your knowledge of binomial variables, and reviewing initial statistical concepts of the central limit theorem, standard deviation, z-scores, and their accompanying p-values."
   ]
  }
 ],
 "metadata": {
  "kernelspec": {
   "display_name": "Python 3 (ipykernel)",
   "language": "python",
   "name": "python3"
  },
  "language_info": {
   "codemirror_mode": {
    "name": "ipython",
    "version": 3
   },
   "file_extension": ".py",
   "mimetype": "text/x-python",
   "name": "python",
   "nbconvert_exporter": "python",
   "pygments_lexer": "ipython3",
   "version": "3.11.7"
  }
 },
 "nbformat": 4,
 "nbformat_minor": 4
}
